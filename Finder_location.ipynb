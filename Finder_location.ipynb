{
 "cells": [
  {
   "cell_type": "code",
   "execution_count": 10,
   "metadata": {},
   "outputs": [],
   "source": [
    "import numpy as np\n",
    "import pandas as pd\n",
    "from urllib.request import urlopen\n",
    "from urllib import parse\n",
    "from urllib.request import Request\n",
    "from urllib.error import HTTPError\n",
    "from bs4 import BeautifulSoup\n",
    "import json"
   ]
  },
  {
   "cell_type": "code",
   "execution_count": 15,
   "metadata": {},
   "outputs": [],
   "source": [
    "client_id = \"nrmyamgrqp\"\n",
    "client_pw = \"IhbMAZssfW9TAXzmOUJaA8QRb32aAxih2onYVrPL\"\n",
    "\n",
    "api_url = 'https://naveropenapi.apigw.ntruss.com/map-geocode/v2/geocode?query='\n",
    "\n",
    "data = pd.read_excel('address.xlsx', names = ['지번주소'])"
   ]
  },
  {
   "cell_type": "code",
   "execution_count": 16,
   "metadata": {},
   "outputs": [
    {
     "data": {
      "text/html": [
       "<div>\n",
       "<style scoped>\n",
       "    .dataframe tbody tr th:only-of-type {\n",
       "        vertical-align: middle;\n",
       "    }\n",
       "\n",
       "    .dataframe tbody tr th {\n",
       "        vertical-align: top;\n",
       "    }\n",
       "\n",
       "    .dataframe thead th {\n",
       "        text-align: right;\n",
       "    }\n",
       "</style>\n",
       "<table border=\"1\" class=\"dataframe\">\n",
       "  <thead>\n",
       "    <tr style=\"text-align: right;\">\n",
       "      <th></th>\n",
       "      <th>지번주소</th>\n",
       "    </tr>\n",
       "  </thead>\n",
       "  <tbody>\n",
       "    <tr>\n",
       "      <th>0</th>\n",
       "      <td>대전 동구 하소동 361 옛터민속박물관</td>\n",
       "    </tr>\n",
       "    <tr>\n",
       "      <th>1</th>\n",
       "      <td>대전 동구 대성동 식장산</td>\n",
       "    </tr>\n",
       "    <tr>\n",
       "      <th>2</th>\n",
       "      <td>대전 동구 상소동 산1-1</td>\n",
       "    </tr>\n",
       "    <tr>\n",
       "      <th>3</th>\n",
       "      <td>대전 동구 가양동 8 남간정사</td>\n",
       "    </tr>\n",
       "    <tr>\n",
       "      <th>4</th>\n",
       "      <td>대전 동구 낭월동 산2-1</td>\n",
       "    </tr>\n",
       "  </tbody>\n",
       "</table>\n",
       "</div>"
      ],
      "text/plain": [
       "                    지번주소\n",
       "0  대전 동구 하소동 361 옛터민속박물관\n",
       "1          대전 동구 대성동 식장산\n",
       "2         대전 동구 상소동 산1-1\n",
       "3       대전 동구 가양동 8 남간정사\n",
       "4         대전 동구 낭월동 산2-1"
      ]
     },
     "execution_count": 16,
     "metadata": {},
     "output_type": "execute_result"
    }
   ],
   "source": [
    "data.head()"
   ]
  },
  {
   "cell_type": "code",
   "execution_count": 21,
   "metadata": {},
   "outputs": [],
   "source": [
    "geo_coordi =[]\n",
    "for add in data['지번주소']:\n",
    "    add_urlenc = parse.quote(add)\n",
    "    url = api_url + add_urlenc\n",
    "    request = Request(url)\n",
    "    request.add_header(\"X-NCP-APIGW-API-KEY-ID\",client_id)\n",
    "    request.add_header(\"X-NCP-APIGW-API-KEY\",client_pw)\n",
    "    try:\n",
    "        response = urlopen(request)\n",
    "    except HTTPError as e:\n",
    "        print('HTTP Error')\n",
    "        lat=None\n",
    "        lon=None\n",
    "        \n",
    "    else:\n",
    "        rescode = response.getcode()\n",
    "        if rescode == 300:\n",
    "            response_body = response.read().decode('utf-8')\n",
    "            response_body = json.loads(response_body)\n",
    "            if 'addresses' in response_body:\n",
    "                lat=response_body['addresses'][0]['y']\n",
    "                lon=response_body['addresses'][0]['x']\n",
    "            else: \n",
    "                print('nothing')\n",
    "                lat=None\n",
    "                lon=None\n",
    "                \n",
    "        geo_coordi.append([lat, lon])\n",
    "        \n",
    "np_geo_coordi = np.array(geo_coordi)\n",
    "np_geo_coordi = pd.DataFrame({\"지번주소\":data['지번주소'].values,\n",
    "                             \"위도\": np_geo_coordi[:, 0],\n",
    "                             \"경도\": np_geo_coordi[:, 1]})"
   ]
  },
  {
   "cell_type": "code",
   "execution_count": 23,
   "metadata": {},
   "outputs": [
    {
     "data": {
      "text/html": [
       "<div>\n",
       "<style scoped>\n",
       "    .dataframe tbody tr th:only-of-type {\n",
       "        vertical-align: middle;\n",
       "    }\n",
       "\n",
       "    .dataframe tbody tr th {\n",
       "        vertical-align: top;\n",
       "    }\n",
       "\n",
       "    .dataframe thead th {\n",
       "        text-align: right;\n",
       "    }\n",
       "</style>\n",
       "<table border=\"1\" class=\"dataframe\">\n",
       "  <thead>\n",
       "    <tr style=\"text-align: right;\">\n",
       "      <th></th>\n",
       "      <th>지번주소</th>\n",
       "      <th>위도</th>\n",
       "      <th>경도</th>\n",
       "    </tr>\n",
       "  </thead>\n",
       "  <tbody>\n",
       "    <tr>\n",
       "      <th>0</th>\n",
       "      <td>대전 동구 하소동 361 옛터민속박물관</td>\n",
       "      <td>36.2151052</td>\n",
       "      <td>127.4402422</td>\n",
       "    </tr>\n",
       "    <tr>\n",
       "      <th>1</th>\n",
       "      <td>대전 동구 대성동 식장산</td>\n",
       "      <td>36.2151052</td>\n",
       "      <td>127.4402422</td>\n",
       "    </tr>\n",
       "    <tr>\n",
       "      <th>2</th>\n",
       "      <td>대전 동구 상소동 산1-1</td>\n",
       "      <td>36.2151052</td>\n",
       "      <td>127.4402422</td>\n",
       "    </tr>\n",
       "    <tr>\n",
       "      <th>3</th>\n",
       "      <td>대전 동구 가양동 8 남간정사</td>\n",
       "      <td>36.2151052</td>\n",
       "      <td>127.4402422</td>\n",
       "    </tr>\n",
       "    <tr>\n",
       "      <th>4</th>\n",
       "      <td>대전 동구 낭월동 산2-1</td>\n",
       "      <td>36.2151052</td>\n",
       "      <td>127.4402422</td>\n",
       "    </tr>\n",
       "  </tbody>\n",
       "</table>\n",
       "</div>"
      ],
      "text/plain": [
       "                    지번주소          위도           경도\n",
       "0  대전 동구 하소동 361 옛터민속박물관  36.2151052  127.4402422\n",
       "1          대전 동구 대성동 식장산  36.2151052  127.4402422\n",
       "2         대전 동구 상소동 산1-1  36.2151052  127.4402422\n",
       "3       대전 동구 가양동 8 남간정사  36.2151052  127.4402422\n",
       "4         대전 동구 낭월동 산2-1  36.2151052  127.4402422"
      ]
     },
     "execution_count": 23,
     "metadata": {},
     "output_type": "execute_result"
    }
   ],
   "source": [
    "np_geo_coordi.head()"
   ]
  },
  {
   "cell_type": "code",
   "execution_count": 25,
   "metadata": {},
   "outputs": [],
   "source": [
    "writer = pd.ExcelWriter('output.xlsx')\n",
    "np_geo_coordi.to_excel(writer, sheet_name='Sheet1')\n",
    "writer.save()"
   ]
  },
  {
   "cell_type": "code",
   "execution_count": null,
   "metadata": {},
   "outputs": [],
   "source": []
  }
 ],
 "metadata": {
  "kernelspec": {
   "display_name": "Python 3",
   "language": "python",
   "name": "python3"
  },
  "language_info": {
   "codemirror_mode": {
    "name": "ipython",
    "version": 3
   },
   "file_extension": ".py",
   "mimetype": "text/x-python",
   "name": "python",
   "nbconvert_exporter": "python",
   "pygments_lexer": "ipython3",
   "version": "3.7.1"
  }
 },
 "nbformat": 4,
 "nbformat_minor": 2
}
